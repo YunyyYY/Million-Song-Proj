{
 "cells": [
  {
   "cell_type": "code",
   "execution_count": 1,
   "metadata": {},
   "outputs": [],
   "source": [
    "import pandas as pd\n",
    "import numpy as np\n",
    "from hdf5_getters import *\n",
    "from utils import get_all_files"
   ]
  },
  {
   "cell_type": "code",
   "execution_count": 2,
   "metadata": {},
   "outputs": [],
   "source": [
    "paths = get_all_files('A')"
   ]
  },
  {
   "cell_type": "markdown",
   "metadata": {},
   "source": [
    "### Check number of Jazz"
   ]
  },
  {
   "cell_type": "code",
   "execution_count": 24,
   "metadata": {},
   "outputs": [],
   "source": [
    "count = 0\n",
    "for fi in paths:\n",
    "    h5 = open_h5_file_read(fi)\n",
    "    term = [i.decode('UTF-8') for i in get_artist_terms(h5)]\n",
    "    if 'jazz' in term:\n",
    "        count += 1\n",
    "    h5.close()"
   ]
  },
  {
   "cell_type": "code",
   "execution_count": 33,
   "metadata": {},
   "outputs": [
    {
     "data": {
      "text/plain": [
       "2070"
      ]
     },
     "execution_count": 33,
     "metadata": {},
     "output_type": "execute_result"
    }
   ],
   "source": [
    "count"
   ]
  },
  {
   "cell_type": "code",
   "execution_count": 3,
   "metadata": {},
   "outputs": [
    {
     "data": {
      "text/plain": [
       "10435"
      ]
     },
     "execution_count": 3,
     "metadata": {},
     "output_type": "execute_result"
    }
   ],
   "source": [
    "len(paths)"
   ]
  },
  {
   "cell_type": "markdown",
   "metadata": {},
   "source": [
    "### Features"
   ]
  },
  {
   "cell_type": "code",
   "execution_count": 4,
   "metadata": {},
   "outputs": [],
   "source": [
    "def h5_to_csv(flist):\n",
    "    df = pd.DataFrame(columns=['hotness', 'duration', 'energy', 'tempo', 'year', \n",
    "                               'analysis_sample_rate', 'danceability', 'end_of_fade_in', 'key', \n",
    "                               'key_confidence', 'loudness', 'mode', 'mode_confidence', 'start_of_fade_out', \n",
    "                               'tempo', 'time_sig', 'seg_start', 'seg_pitch', 'seg_timbre', 'seg_loud', \n",
    "                           'seg_loud_time', 'seg_loud_start', 'section', 'beats', 'bars', 'tatum', 'weight'])\n",
    "    index = 0\n",
    "    for fi in flist:\n",
    "        h5 = open_h5_file_read(fi)\n",
    "        term = [i.decode('UTF-8') for i in get_artist_terms(h5)]\n",
    "        weight = 0\n",
    "        if 'jazz' in term:\n",
    "            weight = get_artist_terms_weight(h5)[term.index('jazz')]\n",
    "        df.loc[index] = [get_song_hotttnesss(h5), get_duration(h5), get_energy(h5), get_tempo(h5), get_year(h5),\n",
    "                get_analysis_sample_rate(h5), get_danceability(h5), get_end_of_fade_in(h5), get_key(h5), \n",
    "                get_key_confidence(h5), get_loudness(h5), get_mode(h5),get_mode_confidence(h5), \n",
    "                get_start_of_fade_out(h5), get_tempo(h5), get_time_signature(h5),\n",
    "                np.average(get_segments_start(h5)), np.average(get_segments_pitches(h5)),\n",
    "                np.average(get_segments_timbre(h5)), np.average(get_segments_loudness_max(h5)),\n",
    "                np.average(get_segments_loudness_max_time(h5)), np.average(get_segments_loudness_start(h5)),\n",
    "                np.average(get_sections_start(h5)), np.average(get_beats_start(h5)), \n",
    "                np.average(get_bars_start(h5)), np.average(get_tatums_start(h5)), weight]\n",
    "        index += 1\n",
    "        h5.close()\n",
    "    return df"
   ]
  },
  {
   "cell_type": "code",
   "execution_count": 5,
   "metadata": {},
   "outputs": [
    {
     "name": "stderr",
     "output_type": "stream",
     "text": [
      "/Users/kelly/tools/anaconda3/lib/python3.6/site-packages/numpy/lib/function_base.py:1110: RuntimeWarning: Mean of empty slice.\n",
      "  avg = a.mean(axis)\n",
      "/Users/kelly/tools/anaconda3/lib/python3.6/site-packages/numpy/core/_methods.py:80: RuntimeWarning: invalid value encountered in double_scalars\n",
      "  ret = ret.dtype.type(ret / rcount)\n"
     ]
    }
   ],
   "source": [
    "a = h5_to_csv(paths)"
   ]
  },
  {
   "cell_type": "code",
   "execution_count": 8,
   "metadata": {},
   "outputs": [],
   "source": [
    "a.to_csv(\"genre.csv\")"
   ]
  },
  {
   "cell_type": "code",
   "execution_count": 13,
   "metadata": {},
   "outputs": [
    {
     "data": {
      "text/plain": [
       "707"
      ]
     },
     "execution_count": 13,
     "metadata": {},
     "output_type": "execute_result"
    }
   ],
   "source": [
    "sum(a.weight > 0.85)"
   ]
  },
  {
   "cell_type": "code",
   "execution_count": null,
   "metadata": {},
   "outputs": [],
   "source": []
  }
 ],
 "metadata": {
  "kernelspec": {
   "display_name": "Python [conda root]",
   "language": "python",
   "name": "conda-root-py"
  },
  "language_info": {
   "codemirror_mode": {
    "name": "ipython",
    "version": 3
   },
   "file_extension": ".py",
   "mimetype": "text/x-python",
   "name": "python",
   "nbconvert_exporter": "python",
   "pygments_lexer": "ipython3",
   "version": "3.6.5"
  }
 },
 "nbformat": 4,
 "nbformat_minor": 2
}
