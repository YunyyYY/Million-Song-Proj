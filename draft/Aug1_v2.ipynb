{
 "cells": [
  {
   "cell_type": "code",
   "execution_count": 1,
   "metadata": {},
   "outputs": [],
   "source": [
    "import pandas as pd\n",
    "import numpy as np\n",
    "from hdf5_getters import *\n",
    "from utils import get_all_files\n",
    "from sklearn.ensemble import RandomForestClassifier\n",
    "from sklearn.model_selection import cross_val_score"
   ]
  },
  {
   "cell_type": "code",
   "execution_count": 76,
   "metadata": {},
   "outputs": [],
   "source": [
    "paths = get_all_files('A')"
   ]
  },
  {
   "cell_type": "code",
   "execution_count": 7,
   "metadata": {},
   "outputs": [
    {
     "data": {
      "text/plain": [
       "16566"
      ]
     },
     "execution_count": 7,
     "metadata": {},
     "output_type": "execute_result"
    }
   ],
   "source": [
    "len(paths)"
   ]
  },
  {
   "cell_type": "markdown",
   "metadata": {},
   "source": [
    "### Features"
   ]
  },
  {
   "cell_type": "code",
   "execution_count": 8,
   "metadata": {},
   "outputs": [],
   "source": [
    "def h5_to_csv(flist):\n",
    "    df = pd.DataFrame(columns=['hotness', 'duration', 'energy', 'tempo', 'year', \n",
    "                               'analysis_sample_rate', 'danceability', 'end_of_fade_in', 'key', \n",
    "                               'key_confidence', 'loudness', 'mode', 'mode_confidence', 'start_of_fade_out', \n",
    "                               'tempo', 'time_sig', 'seg_start', 'seg_pitch', 'seg_timbre', 'seg_loud', \n",
    "                           'seg_loud_time', 'seg_loud_start', 'section', 'beats', 'bars', 'tatum', 'weight'])\n",
    "    index = 0\n",
    "    for fi in flist:\n",
    "        h5 = open_h5_file_read(fi)\n",
    "        term = [i.decode('UTF-8') for i in get_artist_terms(h5)]\n",
    "        weight = 0\n",
    "        if 'jazz' in term:\n",
    "            weight = get_artist_terms_weight(h5)[term.index('jazz')]\n",
    "        df.loc[index] = [get_song_hotttnesss(h5), get_duration(h5), get_energy(h5), get_tempo(h5), get_year(h5),\n",
    "                get_analysis_sample_rate(h5), get_danceability(h5), get_end_of_fade_in(h5), get_key(h5), \n",
    "                get_key_confidence(h5), get_loudness(h5), get_mode(h5),get_mode_confidence(h5), \n",
    "                get_start_of_fade_out(h5), get_tempo(h5), get_time_signature(h5),\n",
    "                np.average(get_segments_start(h5)), np.average(get_segments_pitches(h5)),\n",
    "                np.average(get_segments_timbre(h5)), np.average(get_segments_loudness_max(h5)),\n",
    "                np.average(get_segments_loudness_max_time(h5)), np.average(get_segments_loudness_start(h5)),\n",
    "                np.average(get_sections_start(h5)), np.average(get_beats_start(h5)), \n",
    "                np.average(get_bars_start(h5)), np.average(get_tatums_start(h5)), weight]\n",
    "        index += 1\n",
    "        h5.close()\n",
    "    return df"
   ]
  },
  {
   "cell_type": "code",
   "execution_count": 9,
   "metadata": {},
   "outputs": [
    {
     "name": "stderr",
     "output_type": "stream",
     "text": [
      "/Users/kelly/tools/anaconda3/lib/python3.6/site-packages/numpy/lib/function_base.py:1110: RuntimeWarning: Mean of empty slice.\n",
      "  avg = a.mean(axis)\n",
      "/Users/kelly/tools/anaconda3/lib/python3.6/site-packages/numpy/core/_methods.py:80: RuntimeWarning: invalid value encountered in double_scalars\n",
      "  ret = ret.dtype.type(ret / rcount)\n"
     ]
    }
   ],
   "source": [
    "a = h5_to_csv(paths)"
   ]
  },
  {
   "cell_type": "markdown",
   "metadata": {},
   "source": [
    "### Pandas Load csv and classification"
   ]
  },
  {
   "cell_type": "code",
   "execution_count": 14,
   "metadata": {},
   "outputs": [],
   "source": [
    "a = pd.read_csv(\"ge.csv\")\n",
    "a.dropna(axis=0, how='any', inplace=True)\n",
    "a.to_csv(\"ge.csv\", header=None)"
   ]
  },
  {
   "cell_type": "code",
   "execution_count": null,
   "metadata": {},
   "outputs": [],
   "source": [
    "#a.dropna(axis=0, how='any', inplace=True)             # delete NaN rows\n",
    "y = np.array([1 if i>0.8 else 0 for i in a.weight])   # set label\n",
    "X = a.values\n",
    "sum(a.weight>0.85)"
   ]
  },
  {
   "cell_type": "code",
   "execution_count": 66,
   "metadata": {},
   "outputs": [],
   "source": [
    "cut = int(len(X) * 0.8)\n",
    "last = len(X)\n",
    "trainX = X[0:cut]\n",
    "trainY = y[0:cut]\n",
    "testX = X[cut:last]\n",
    "testY = y[cut:last]"
   ]
  },
  {
   "cell_type": "code",
   "execution_count": 68,
   "metadata": {},
   "outputs": [],
   "source": [
    "clf2 = RandomForestClassifier(n_estimators=100, max_depth=3,\n",
    "                              random_state=0)\n",
    "clf2.fit(trainX, trainY)\n",
    "scores = cross_val_score(clf2, testX, testY, cv=10)"
   ]
  },
  {
   "cell_type": "code",
   "execution_count": 69,
   "metadata": {},
   "outputs": [
    {
     "data": {
      "text/plain": [
       "array([ 0.99393939,  0.93939394,  0.95744681,  0.96960486,  0.9787234 ,\n",
       "        0.97568389,  0.96048632,  0.95744681,  0.95744681,  1.        ])"
      ]
     },
     "execution_count": 69,
     "metadata": {},
     "output_type": "execute_result"
    }
   ],
   "source": [
    "scores"
   ]
  },
  {
   "cell_type": "code",
   "execution_count": 62,
   "metadata": {},
   "outputs": [],
   "source": []
  },
  {
   "cell_type": "code",
   "execution_count": 16,
   "metadata": {},
   "outputs": [],
   "source": []
  },
  {
   "cell_type": "code",
   "execution_count": 87,
   "metadata": {},
   "outputs": [],
   "source": []
  },
  {
   "cell_type": "code",
   "execution_count": 12,
   "metadata": {},
   "outputs": [],
   "source": [
    "def parsePoint(line):\n",
    "    try:\n",
    "        values = [float(x) for x in line.split(',')]\n",
    "    except:\n",
    "        print(values)\n",
    "    label = 0\n",
    "    if values[-1] > 0.85:\n",
    "        label = 1\n",
    "    return LabeledPoint(label, values)"
   ]
  },
  {
   "cell_type": "code",
   "execution_count": 17,
   "metadata": {},
   "outputs": [],
   "source": [
    "a = sc.textFile(\"ge.csv\")"
   ]
  },
  {
   "cell_type": "code",
   "execution_count": 18,
   "metadata": {},
   "outputs": [],
   "source": [
    "data = a.map(parsePoint)"
   ]
  },
  {
   "cell_type": "code",
   "execution_count": 10,
   "metadata": {},
   "outputs": [],
   "source": [
    "import pandas as pd\n",
    "from pyspark.mllib.tree import RandomForest, RandomForestModel\n",
    "from pyspark.mllib.util import MLUtils\n",
    "from pyspark.mllib.regression import LabeledPoint"
   ]
  },
  {
   "cell_type": "code",
   "execution_count": 19,
   "metadata": {},
   "outputs": [],
   "source": [
    "(trainingData, testData) = data.randomSplit([0.7, 0.3])\n",
    "model = RandomForest.trainClassifier(trainingData, numClasses=2, categoricalFeaturesInfo={},\n",
    "                                     numTrees=5, featureSubsetStrategy=\"auto\",\n",
    "                                     impurity='gini', maxDepth=4, maxBins=32)\n",
    "\n",
    "predictions = model.predict(testData.map(lambda x: x.features))\n",
    "labelsAndPredictions = testData.map(lambda lp: lp.label).zip(predictions)\n",
    "testErr = labelsAndPredictions.map(lambda vp: (vp[0] - vp[1])**2).reduce(lambda x, y: x + y) /labelsAndPredictions.count()"
   ]
  },
  {
   "cell_type": "code",
   "execution_count": 20,
   "metadata": {},
   "outputs": [
    {
     "name": "stdout",
     "output_type": "stream",
     "text": [
      "Test error is 0.0\n"
     ]
    }
   ],
   "source": [
    "print(\"Test error is {}\".format(testErr))"
   ]
  },
  {
   "cell_type": "code",
   "execution_count": null,
   "metadata": {},
   "outputs": [],
   "source": []
  }
 ],
 "metadata": {
  "kernelspec": {
   "display_name": "Python [conda root]",
   "language": "python",
   "name": "conda-root-py"
  },
  "language_info": {
   "codemirror_mode": {
    "name": "ipython",
    "version": 3
   },
   "file_extension": ".py",
   "mimetype": "text/x-python",
   "name": "python",
   "nbconvert_exporter": "python",
   "pygments_lexer": "ipython3",
   "version": "3.6.5"
  }
 },
 "nbformat": 4,
 "nbformat_minor": 2
}
