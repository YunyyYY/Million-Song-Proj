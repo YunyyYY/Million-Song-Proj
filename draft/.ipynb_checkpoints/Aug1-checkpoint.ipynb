{
 "cells": [
  {
   "cell_type": "code",
   "execution_count": 1,
   "metadata": {},
   "outputs": [],
   "source": [
    "import pandas as pd\n",
    "import numpy as np\n",
    "from hdf5_getters import *\n",
    "from utils import get_all_files"
   ]
  },
  {
   "cell_type": "code",
   "execution_count": 49,
   "metadata": {},
   "outputs": [],
   "source": [
    "paths = get_all_files('A')"
   ]
  },
  {
   "cell_type": "code",
   "execution_count": 24,
   "metadata": {},
   "outputs": [],
   "source": [
    "count = 0\n",
    "for fi in paths:\n",
    "    h5 = open_h5_file_read(fi)\n",
    "    term = [i.decode('UTF-8') for i in get_artist_terms(h5)]\n",
    "    if 'jazz' in term:\n",
    "        count += 1\n",
    "    h5.close()"
   ]
  },
  {
   "cell_type": "code",
   "execution_count": 33,
   "metadata": {},
   "outputs": [
    {
     "data": {
      "text/plain": [
       "2070"
      ]
     },
     "execution_count": 33,
     "metadata": {},
     "output_type": "execute_result"
    }
   ],
   "source": [
    "count"
   ]
  },
  {
   "cell_type": "code",
   "execution_count": 50,
   "metadata": {},
   "outputs": [
    {
     "data": {
      "text/plain": [
       "10435"
      ]
     },
     "execution_count": 50,
     "metadata": {},
     "output_type": "execute_result"
    }
   ],
   "source": [
    "len(paths)"
   ]
  },
  {
   "cell_type": "markdown",
   "metadata": {},
   "source": [
    "### Features"
   ]
  },
  {
   "cell_type": "code",
   "execution_count": 92,
   "metadata": {},
   "outputs": [],
   "source": [
    "def h5_to_csv(flist):\n",
    "    df = pd.DataFrame(columns=['hotness', 'duration', 'energy', 'tempo', 'year', \n",
    "                               'analysis_sample_rate', 'danceability', 'end_of_fade_in', 'key', \n",
    "                               'key_confidence', 'loudness', 'mode', 'mode_confidence', 'start_of_fade_out', \n",
    "                               'tempo', 'time_sig', 'seg_start', 'seg_pitch', 'seg_timbre', 'seg_loud', \n",
    "                           'seg_loud_time', 'seg_loud_start', 'section', 'beats', 'bars', 'tatum', 'weight'])\n",
    "    index = 0\n",
    "    for fi in flist:\n",
    "        h5 = open_h5_file_read(fi)\n",
    "        term = [i.decode('UTF-8') for i in get_artist_terms(h5)]\n",
    "        weight = 0\n",
    "        if 'jazz' in term:\n",
    "            weight = get_artist_terms_weight(h5)[term.index('jazz')]\n",
    "        df.loc[index] = [get_song_hotttnesss(h5), get_duration(h5), get_energy(h5), get_tempo(h5), get_year(h5),\n",
    "                get_analysis_sample_rate(h5), get_danceability(h5), get_end_of_fade_in(h5), get_key(h5), \n",
    "                get_key_confidence(h5), get_loudness(h5), get_mode(h5),get_mode_confidence(h5), \n",
    "                get_start_of_fade_out(h5), get_tempo(h5), get_time_signature(h5),\n",
    "                np.average(get_segments_start(h5)), np.average(get_segments_pitches(h5)),\n",
    "                np.average(get_segments_timbre(h5)), np.average(get_segments_loudness_max(h5)),\n",
    "                np.average(get_segments_loudness_max_time(h5)), np.average(get_segments_loudness_start(h5)),\n",
    "                np.average(get_sections_start(h5)), np.average(get_beats_start(h5)), \n",
    "                np.average(get_bars_start(h5)), np.average(get_tatums_start(h5))]\n",
    "        index += 1\n",
    "        h5.close()\n",
    "    return df"
   ]
  },
  {
   "cell_type": "code",
   "execution_count": 80,
   "metadata": {},
   "outputs": [],
   "source": [
    "df = pd.DataFrame(columns=['hotness', 'duration', 'energy', 'tempo', 'year', \n",
    "                               'analysis_sample_rate', 'danceability', 'end_of_fade_in', 'key', \n",
    "                               'key_confidence', 'loudness', 'mode', 'mode_confidence', 'start_of_fade_out', \n",
    "                               'tempo', 'time_sig', 'seg_start', 'seg_pitch', 'seg_timbre', 'seg_loud', \n",
    "                           'seg_loud_time', 'seg_loud_start', 'section', 'beats', 'bars', 'tatum' ])"
   ]
  },
  {
   "cell_type": "code",
   "execution_count": 82,
   "metadata": {},
   "outputs": [],
   "source": []
  },
  {
   "cell_type": "code",
   "execution_count": 54,
   "metadata": {},
   "outputs": [],
   "source": [
    "h5 = open_h5_file_read('A/Z/A/TRAZAAA128F149040E.h5')"
   ]
  },
  {
   "cell_type": "code",
   "execution_count": 83,
   "metadata": {},
   "outputs": [
    {
     "data": {
      "text/html": [
       "<div>\n",
       "<style scoped>\n",
       "    .dataframe tbody tr th:only-of-type {\n",
       "        vertical-align: middle;\n",
       "    }\n",
       "\n",
       "    .dataframe tbody tr th {\n",
       "        vertical-align: top;\n",
       "    }\n",
       "\n",
       "    .dataframe thead th {\n",
       "        text-align: right;\n",
       "    }\n",
       "</style>\n",
       "<table border=\"1\" class=\"dataframe\">\n",
       "  <thead>\n",
       "    <tr style=\"text-align: right;\">\n",
       "      <th></th>\n",
       "      <th>hotness</th>\n",
       "      <th>duration</th>\n",
       "      <th>energy</th>\n",
       "      <th>tempo</th>\n",
       "      <th>year</th>\n",
       "      <th>analysis_sample_rate</th>\n",
       "      <th>danceability</th>\n",
       "      <th>end_of_fade_in</th>\n",
       "      <th>key</th>\n",
       "      <th>key_confidence</th>\n",
       "      <th>...</th>\n",
       "      <th>seg_start</th>\n",
       "      <th>seg_pitch</th>\n",
       "      <th>seg_timbre</th>\n",
       "      <th>seg_loud</th>\n",
       "      <th>seg_loud_time</th>\n",
       "      <th>seg_loud_start</th>\n",
       "      <th>section</th>\n",
       "      <th>beats</th>\n",
       "      <th>bars</th>\n",
       "      <th>tatum</th>\n",
       "    </tr>\n",
       "  </thead>\n",
       "  <tbody>\n",
       "    <tr>\n",
       "      <th>0</th>\n",
       "      <td>NaN</td>\n",
       "      <td>185.12934</td>\n",
       "      <td>0.0</td>\n",
       "      <td>83.953</td>\n",
       "      <td>0.0</td>\n",
       "      <td>22050.0</td>\n",
       "      <td>0.0</td>\n",
       "      <td>0.38</td>\n",
       "      <td>9.0</td>\n",
       "      <td>0.868</td>\n",
       "      <td>...</td>\n",
       "      <td>87.029169</td>\n",
       "      <td>0.262654</td>\n",
       "      <td>9.352723</td>\n",
       "      <td>-10.051907</td>\n",
       "      <td>0.062871</td>\n",
       "      <td>-18.963386</td>\n",
       "      <td>67.889396</td>\n",
       "      <td>88.403448</td>\n",
       "      <td>86.272792</td>\n",
       "      <td>88.403715</td>\n",
       "    </tr>\n",
       "  </tbody>\n",
       "</table>\n",
       "<p>1 rows × 26 columns</p>\n",
       "</div>"
      ],
      "text/plain": [
       "   hotness   duration  energy   tempo  year  analysis_sample_rate  \\\n",
       "0      NaN  185.12934     0.0  83.953   0.0               22050.0   \n",
       "\n",
       "   danceability  end_of_fade_in  key  key_confidence    ...      seg_start  \\\n",
       "0           0.0            0.38  9.0           0.868    ...      87.029169   \n",
       "\n",
       "   seg_pitch  seg_timbre   seg_loud  seg_loud_time  seg_loud_start    section  \\\n",
       "0   0.262654    9.352723 -10.051907       0.062871      -18.963386  67.889396   \n",
       "\n",
       "       beats       bars      tatum  \n",
       "0  88.403448  86.272792  88.403715  \n",
       "\n",
       "[1 rows x 26 columns]"
      ]
     },
     "execution_count": 83,
     "metadata": {},
     "output_type": "execute_result"
    }
   ],
   "source": [
    "df"
   ]
  },
  {
   "cell_type": "code",
   "execution_count": 88,
   "metadata": {},
   "outputs": [],
   "source": [
    "a = get_artist_terms_weight(h5)\n",
    "b = [i.decode('UTF-8') for i in get_artist_terms(h5)]"
   ]
  },
  {
   "cell_type": "code",
   "execution_count": 86,
   "metadata": {},
   "outputs": [
    {
     "data": {
      "text/plain": [
       "array([ 1.        ,  0.95047861,  0.95046114,  0.9270721 ,  0.82309936,\n",
       "        0.7447923 ,  0.67450164,  0.54872099])"
      ]
     },
     "execution_count": 86,
     "metadata": {},
     "output_type": "execute_result"
    }
   ],
   "source": [
    "a"
   ]
  },
  {
   "cell_type": "code",
   "execution_count": 90,
   "metadata": {},
   "outputs": [
    {
     "data": {
      "text/plain": [
       "1"
      ]
     },
     "execution_count": 90,
     "metadata": {},
     "output_type": "execute_result"
    }
   ],
   "source": [
    "b.index('folk')"
   ]
  },
  {
   "cell_type": "code",
   "execution_count": 91,
   "metadata": {},
   "outputs": [
    {
     "data": {
      "text/plain": [
       "['mexico',\n",
       " 'folk',\n",
       " 'traditional',\n",
       " 'mexican',\n",
       " 'regional mexican',\n",
       " 'mexican folk',\n",
       " 'norteno',\n",
       " 'nortena']"
      ]
     },
     "execution_count": 91,
     "metadata": {},
     "output_type": "execute_result"
    }
   ],
   "source": [
    "b"
   ]
  },
  {
   "cell_type": "code",
   "execution_count": null,
   "metadata": {},
   "outputs": [],
   "source": []
  }
 ],
 "metadata": {
  "kernelspec": {
   "display_name": "Python [conda root]",
   "language": "python",
   "name": "conda-root-py"
  },
  "language_info": {
   "codemirror_mode": {
    "name": "ipython",
    "version": 3
   },
   "file_extension": ".py",
   "mimetype": "text/x-python",
   "name": "python",
   "nbconvert_exporter": "python",
   "pygments_lexer": "ipython3",
   "version": "3.6.5"
  }
 },
 "nbformat": 4,
 "nbformat_minor": 2
}
